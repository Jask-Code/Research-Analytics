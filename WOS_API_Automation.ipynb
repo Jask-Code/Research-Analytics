{
  "nbformat": 4,
  "nbformat_minor": 0,
  "metadata": {
    "colab": {
      "name": "WOS_API_Automation.ipynb",
      "provenance": [],
      "collapsed_sections": [],
      "include_colab_link": true
    },
    "kernelspec": {
      "name": "python2",
      "display_name": "Python 2"
    }
  },
  "cells": [
    {
      "cell_type": "markdown",
      "metadata": {
        "id": "view-in-github",
        "colab_type": "text"
      },
      "source": [
        "<a href=\"https://colab.research.google.com/github/Jask-Code/Research-Analytics/blob/master/WOS_API_Automation.ipynb\" target=\"_parent\"><img src=\"https://colab.research.google.com/assets/colab-badge.svg\" alt=\"Open In Colab\"/></a>"
      ]
    },
    {
      "cell_type": "markdown",
      "metadata": {
        "id": "uB89eThZYhO3",
        "colab_type": "text"
      },
      "source": [
        "# Simple tutorial on Web of Science API\n",
        "For more information and help, please refere to the following [link](http://help.incites.clarivate.com/wosWebServicesLite/WebServicesLiteOverviewGroup/Introduction.html)\n"
      ]
    },
    {
      "cell_type": "markdown",
      "metadata": {
        "id": "-UaFvTJKHdbH",
        "colab_type": "text"
      },
      "source": [
        "# Install XMLTODICT Converter\n",
        "We need to install this converter from XML to Dict. It is much easier to work with Dicts.\n",
        "\n"
      ]
    },
    {
      "cell_type": "code",
      "metadata": {
        "id": "wwtJqIUdyqcG",
        "colab_type": "code",
        "outputId": "6b9a93d6-7a01-4d27-fe2a-912a45db363f",
        "colab": {
          "base_uri": "https://localhost:8080/",
          "height": 85
        }
      },
      "source": [
        " \n",
        "!pip install xmltodict"
      ],
      "execution_count": 8,
      "outputs": [
        {
          "output_type": "stream",
          "text": [
            "Collecting xmltodict\n",
            "  Downloading https://files.pythonhosted.org/packages/28/fd/30d5c1d3ac29ce229f6bdc40bbc20b28f716e8b363140c26eff19122d8a5/xmltodict-0.12.0-py2.py3-none-any.whl\n",
            "Installing collected packages: xmltodict\n",
            "Successfully installed xmltodict-0.12.0\n"
          ],
          "name": "stdout"
        }
      ]
    },
    {
      "cell_type": "markdown",
      "metadata": {
        "id": "I1p3w9RNHo7b",
        "colab_type": "text"
      },
      "source": [
        "# Import requirements"
      ]
    },
    {
      "cell_type": "code",
      "metadata": {
        "id": "bhbcMabuShLU",
        "colab_type": "code",
        "colab": {}
      },
      "source": [
        "import json\n",
        "import requests\n",
        "import base64\n",
        "import xmltodict\n"
      ],
      "execution_count": 0,
      "outputs": []
    },
    {
      "cell_type": "markdown",
      "metadata": {
        "id": "crTrEvdwHysL",
        "colab_type": "text"
      },
      "source": [
        "#Authentication\n",
        "Web of Knowledge (ISI) is providing subscribers with unique username and passwords for authentication. This authentication is dedicated to one or more WOS services. In the following, we present the steps to use WOS Lite subscrption. "
      ]
    },
    {
      "cell_type": "code",
      "metadata": {
        "id": "_uepTsQGHbGq",
        "colab_type": "code",
        "colab": {
          "base_uri": "https://localhost:8080/",
          "height": 34
        },
        "outputId": "86dd2a79-4e62-4a01-fdfa-b6f3e429e1d0"
      },
      "source": [
        "# get a username and password in the following format   [ USERNAME:PASSWORD ]\n",
        "userdata = raw_input(\"Authentication in this format [USERNAME:Password]->\")"
      ],
      "execution_count": 10,
      "outputs": [
        {
          "output_type": "stream",
          "text": [
            "Authentication in this format [USERNAME:Password]->KING_HG:Welcome#21\n"
          ],
          "name": "stdout"
        }
      ]
    },
    {
      "cell_type": "markdown",
      "metadata": {
        "id": "g5jlJSGPI3Lq",
        "colab_type": "text"
      },
      "source": [
        "# Encoding [USERNAME:PASSWORD]\n",
        "\n",
        "WOS API expects client-based username and password encoding using Base64-encoded string in HTTP Header. Therefore, we need to carryout this process before sending our authentication request to the WOS server. \n",
        "\n",
        "The encoded username:password will be added to the header, as well as the type of soap request. The Header part will have the following \n",
        "headers = {'content-type': 'application/soap+xml', 'Authorization': 'Basic ' + str(endata)}\n",
        "\n",
        "1.   content-type  : application/soap+xml\n",
        "2.   Authorization : Basic XXXXXXXXXXXXXXX\n",
        "\n",
        "where XXXXXXX are the encoded username:password\n",
        "\n"
      ]
    },
    {
      "cell_type": "code",
      "metadata": {
        "id": "ZYEAfoQCQ_Gz",
        "colab_type": "code",
        "colab": {}
      },
      "source": [
        "#prepare authentication using base64 encoding:\n",
        "endata = base64.b64encode(userdata.encode(\"utf-8\"))"
      ],
      "execution_count": 0,
      "outputs": []
    },
    {
      "cell_type": "markdown",
      "metadata": {
        "id": "8cB463HcKZlb",
        "colab_type": "text"
      },
      "source": [
        "# Authentication Request Component\n",
        "\n",
        "##Client steps\n",
        "1.   Endpoint Link (WSDL)\n",
        "2.   set request Header\n",
        "3.   Send authentication request (fixed)\n",
        "\n",
        "##Server Expected response\n",
        "1. Session ID should be send back from the server\n",
        "\n",
        "\n",
        "More information is in [here](http://help.incites.clarivate.com/wosWebServicesLite/AuthenticationGroup/Authentication/Username_PW_Authentication.html)\n",
        "\n",
        "\n"
      ]
    },
    {
      "cell_type": "code",
      "metadata": {
        "id": "jmgMr7VLLQnC",
        "colab_type": "code",
        "colab": {}
      },
      "source": [
        "#Authentication Endpoint\n",
        "Aurl=\"http://search.webofknowledge.com/esti/wokmws/ws/WOKMWSAuthenticate?WSDL\""
      ],
      "execution_count": 0,
      "outputs": []
    },
    {
      "cell_type": "code",
      "metadata": {
        "id": "FU5wPVgKLT6p",
        "colab_type": "code",
        "colab": {}
      },
      "source": [
        "# Header content\n",
        "headers = {'content-type': 'application/soap+xml', 'Authorization': 'Basic ' + str(endata)}\n"
      ],
      "execution_count": 0,
      "outputs": []
    },
    {
      "cell_type": "code",
      "metadata": {
        "id": "y5ELIHSgPtxU",
        "colab_type": "code",
        "colab": {}
      },
      "source": [
        "# Authentication request SOAP Envelope (XML)\n",
        "body = \"\"\"<soapenv:Envelope xmlns:soapenv=\"http://schemas.xmlsoap.org/soap/envelope/\" xmlns:auth=\"http://auth.cxf.wokmws.thomsonreuters.com\">\n",
        "   <soapenv:Header/>\n",
        "   <soapenv:Body>\n",
        "      <auth:authenticate/>\n",
        "   </soapenv:Body>\n",
        "</soapenv:Envelope>\"\"\"\n",
        "\n"
      ],
      "execution_count": 0,
      "outputs": []
    },
    {
      "cell_type": "markdown",
      "metadata": {
        "id": "VvU-R-qjLlEH",
        "colab_type": "text"
      },
      "source": [
        "# Ready to send the request\n",
        "After you set all the above information, now you are ready to send the authentication request. This should establish a session. A session ID should be returned from the Server. Then, it can be used to access WOS research data. "
      ]
    },
    {
      "cell_type": "code",
      "metadata": {
        "id": "GUoWdzYnLlRh",
        "colab_type": "code",
        "colab": {
          "base_uri": "https://localhost:8080/",
          "height": 34
        },
        "outputId": "9f521212-19a3-4a21-da98-80e9b8ffec71"
      },
      "source": [
        "# Send an authentication request and check\n",
        "response = requests.post(Aurl,data=body,headers=headers)\n",
        "\n",
        "# Check successful\n",
        "if response.status_code:\n",
        "  print('response received successfully')\n",
        "  flag = True\n",
        "else:\n",
        "   flag = False\n",
        "   print(\"Fail authentication, check your username and passowrd. Remember they're case senstive\")"
      ],
      "execution_count": 49,
      "outputs": [
        {
          "output_type": "stream",
          "text": [
            "response received successfully\n"
          ],
          "name": "stdout"
        }
      ]
    },
    {
      "cell_type": "markdown",
      "metadata": {
        "id": "x0u9h4bDMddr",
        "colab_type": "text"
      },
      "source": [
        "# Session ID\n",
        "The response will contain a session ID. This ID will be used for sending data requests as well as end the current session.  \n",
        "\n",
        "More information is in [here](http://help.incites.clarivate.com/wosWebServicesLite/AuthenticationGroup/Authentication/2685-TRS.html) and a complete example of a request-response can be found [here](http://help.incites.clarivate.com/wosWebServicesLite/WebServiceOperationsGroup/WebServiceOperations/g1/authenticate.html)"
      ]
    },
    {
      "cell_type": "code",
      "metadata": {
        "id": "vdg--ZmvQl61",
        "colab_type": "code",
        "outputId": "255b8c00-9e89-472f-ad62-655812057c77",
        "colab": {
          "base_uri": "https://localhost:8080/",
          "height": 34
        }
      },
      "source": [
        "# if the autentication successful\n",
        "if flag:\n",
        "  for itm in response.headers.items():\n",
        "      if 'Cookie' in itm[0]:\n",
        "        SID = itm[1]\n",
        "        print ('Session ID:', SID[4:])"
      ],
      "execution_count": 50,
      "outputs": [
        {
          "output_type": "stream",
          "text": [
            "('Session ID:', '7FPLUQcqTl3HHucVsLy')\n"
          ],
          "name": "stdout"
        }
      ]
    },
    {
      "cell_type": "markdown",
      "metadata": {
        "id": "2-RmnnqfX3sR",
        "colab_type": "text"
      },
      "source": [
        "# Ready to get research data from Web of Knowledge\n",
        "\n",
        "##Client side\n",
        "This requires three steps:\n",
        "1. Set the Endpoint URL\n",
        "2. Set the Header of the request, Make sure to include a Cookie entry with a SID value ( session id)\n",
        "3. prepare you data request. In this example we're trying to get data related to our instituion (King Fahd University of Petroluem and Minerals)\n",
        "\n",
        "##Server side\n",
        "the response will be a set of records (maximum 100 records) if our request was sucessful. Otherwise, we should receive server error. \n",
        "\n",
        "\n"
      ]
    },
    {
      "cell_type": "code",
      "metadata": {
        "id": "0bBfucv5Zewl",
        "colab_type": "code",
        "colab": {}
      },
      "source": [
        "# prepare the url with sevice url\n",
        "Qrul = 'http://search.webofknowledge.com/esti/wokmws/ws/WokSearchLite?wsdl'"
      ],
      "execution_count": 0,
      "outputs": []
    },
    {
      "cell_type": "code",
      "metadata": {
        "id": "m4hFlyxIVaM9",
        "colab_type": "code",
        "colab": {}
      },
      "source": [
        "# set header with session id (SID) value\n",
        "headers = {'content-type': 'application/json', 'Cookie': SID}"
      ],
      "execution_count": 0,
      "outputs": []
    },
    {
      "cell_type": "code",
      "metadata": {
        "id": "AVfDoyJLY5rp",
        "colab_type": "code",
        "colab": {}
      },
      "source": [
        "# Write a proper query: This is an institutional level query\n",
        "Dquery = \"\"\"<soap:Envelope xmlns:soap=\"http://schemas.xmlsoap.org/soap/envelope/\">\n",
        " <soap:Header/>\n",
        " <soap:Body>\n",
        " <ns2:search xmlns:ns2=\"http://woksearchlite.v3.wokmws.thomsonreuters.com\">\n",
        " <queryParameters>\n",
        " <databaseId>WOS</databaseId>\n",
        " <editions>\n",
        " <collection>WOS</collection>\n",
        " <edition>SCI</edition>\n",
        " </editions>\n",
        " <editions>\n",
        " <collection>WOS</collection>\n",
        " <edition>ISTP</edition>\n",
        " </editions>\n",
        "  <editions>\n",
        " <collection>WOS</collection>\n",
        " <edition>SSCI</edition>\n",
        " </editions>\n",
        " <editions>\n",
        " <collection>WOS</collection>\n",
        " <edition>AHCI</edition>\n",
        " </editions>\n",
        " <editions>\n",
        " <collection>WOS</collection>\n",
        " <edition>ISSHP</edition>\n",
        " </editions>\n",
        "  <editions>\n",
        " <collection>WOS</collection>\n",
        " <edition>ESCI</edition>\n",
        " </editions>\n",
        " <queryLanguage>en</queryLanguage>\n",
        " <timeSpan>\n",
        " <begin>1900-01-01</begin>\n",
        " <end>2019-10-26</end>\n",
        " </timeSpan>\n",
        " <userQuery>OG=King Fahd Univ*</userQuery>\n",
        " </queryParameters>\n",
        " <retrieveParameters>\n",
        " <count>100</count>\n",
        " <firstRecord>1</firstRecord>\n",
        " </retrieveParameters>\n",
        " </ns2:search>\n",
        " </soap:Body>\n",
        "</soap:Envelope>\"\"\""
      ],
      "execution_count": 0,
      "outputs": []
    },
    {
      "cell_type": "markdown",
      "metadata": {
        "id": "FiULbJYlWrgr",
        "colab_type": "text"
      },
      "source": [
        "# Web of Science Core Collection Editions\n",
        "the database id should be 'WOS', and there are several editions as shown in the [table](http://help.incites.clarivate.com/wosWebServicesLite/dbEditionsOptionsGroup/databaseEditionsWos.html) \n"
      ]
    },
    {
      "cell_type": "code",
      "metadata": {
        "id": "lfXgQ3e8ZI4M",
        "colab_type": "code",
        "outputId": "51cac4c0-41a6-4c37-8e9d-3524b9149e2a",
        "colab": {
          "base_uri": "https://localhost:8080/",
          "height": 34
        }
      },
      "source": [
        "# send a query  and check if it is successful\n",
        "response = requests.post(Qrul,data=Dquery,headers=headers)\n",
        "\n",
        "# check successful\n",
        "if response.status_code:\n",
        "  print('response received')\n",
        "  flag = True\n",
        "else:\n",
        "   flag = False\n",
        "   print('Fail authentication')\n"
      ],
      "execution_count": 64,
      "outputs": [
        {
          "output_type": "stream",
          "text": [
            "response received\n"
          ],
          "name": "stdout"
        }
      ]
    },
    {
      "cell_type": "markdown",
      "metadata": {
        "id": "5E06hX7SQaTQ",
        "colab_type": "text"
      },
      "source": [
        "# parse response using xmltodict\n"
      ]
    },
    {
      "cell_type": "code",
      "metadata": {
        "id": "QfVdGTRgZ2yL",
        "colab_type": "code",
        "colab": {}
      },
      "source": [
        "# Convert successful response to dictionary\n",
        "if flag:\n",
        "  x= xmltodict.parse(response.content)\n",
        "else:\n",
        "  print('Not successful')"
      ],
      "execution_count": 0,
      "outputs": []
    },
    {
      "cell_type": "code",
      "metadata": {
        "id": "k7ZNkhRafVtY",
        "colab_type": "code",
        "colab": {}
      },
      "source": [
        "# dumps it to json\n",
        "jdumps = json.dumps(x,indent=1)"
      ],
      "execution_count": 0,
      "outputs": []
    },
    {
      "cell_type": "code",
      "metadata": {
        "id": "m0ZsPu7PAMG4",
        "colab_type": "code",
        "colab": {}
      },
      "source": [
        "# get loads of the data\n",
        "jDict= json.loads(jdumps)"
      ],
      "execution_count": 0,
      "outputs": []
    },
    {
      "cell_type": "markdown",
      "metadata": {
        "id": "2hrobc4CMeSz",
        "colab_type": "text"
      },
      "source": [
        "#Response Fields\n",
        "Since each query returns in maximum a 100 record, we need to send multiple queries to get our data. Therefore, WSDL describes a retreive request where we need to increase the queryId counter each time, and set the 'firstRecord' tag to the start of the next 100 record. \n",
        "\n",
        "To extract the queryId, we can execute the following code:\n",
        "\n"
      ]
    },
    {
      "cell_type": "code",
      "metadata": {
        "id": "VWClbsc00Cln",
        "colab_type": "code",
        "outputId": "7dc268af-2665-4bca-d0f9-100bfc1bbe75",
        "colab": {
          "base_uri": "https://localhost:8080/",
          "height": 34
        }
      },
      "source": [
        "# get query Id:\n",
        "QueryId = jDict[\"soap:Envelope\"][\"soap:Body\"][\"ns2:searchResponse\"][\"return\"][\"queryId\"]\n",
        "print(QueryId)"
      ],
      "execution_count": 69,
      "outputs": [
        {
          "output_type": "stream",
          "text": [
            "1\n"
          ],
          "name": "stdout"
        }
      ]
    },
    {
      "cell_type": "markdown",
      "metadata": {
        "id": "5H42nOohRuCn",
        "colab_type": "text"
      },
      "source": [
        "# Retreive Request\n",
        "This request is used to retrieve subsquent data from the previous query. Therefore, this request should contain the queryId and firstRecord and how many records should be retrieved next!"
      ]
    },
    {
      "cell_type": "code",
      "metadata": {
        "id": "QW5pYLr9RxrW",
        "colab_type": "code",
        "colab": {}
      },
      "source": [
        "Dquery= \"\"\" <soap:Envelope xmlns:soap=\"http://schemas.xmlsoap.org/soap/envelope/\">\n",
        "<soap:Body>\n",
        "  <ns2:retrieve xmlns:ns2=\"http://woksearchlite.v3.wokmws.thomsonreuters.com\">\n",
        "    \n",
        "    <queryId>\"\"\"QueryId\"\"\"</queryId>\n",
        "    \n",
        "    <retrieveParameters>\n",
        "       <firstRecord>101</firstRecord>\n",
        "       <count>100</count>\n",
        "    </retrieveParameters>\n",
        "    \n",
        "  </ns2:retrieve>\n",
        "</soap:Body>\n",
        "</soap:Envelope>\"\"\"\n"
      ],
      "execution_count": 0,
      "outputs": []
    },
    {
      "cell_type": "code",
      "metadata": {
        "id": "T40CD_-qSUsP",
        "colab_type": "code",
        "colab": {
          "base_uri": "https://localhost:8080/",
          "height": 34
        },
        "outputId": "520d6917-34f1-4c01-d106-194ffdeb7302"
      },
      "source": [
        "# send a query  and check if it is successful\n",
        "response = requests.post(Qrul,data=Dquery,headers=headers)\n",
        "\n",
        "# check successful\n",
        "if response.status_code:\n",
        "  print('response received')\n",
        "  flag = True\n",
        "else:\n",
        "   flag = False\n",
        "   print('Fail authentication')"
      ],
      "execution_count": 29,
      "outputs": [
        {
          "output_type": "stream",
          "text": [
            "response received\n"
          ],
          "name": "stdout"
        }
      ]
    },
    {
      "cell_type": "code",
      "metadata": {
        "id": "wWDlyGlEMm16",
        "colab_type": "code",
        "outputId": "747ded23-48fe-4d65-cc17-93e012febf64",
        "colab": {
          "base_uri": "https://localhost:8080/",
          "height": 34
        }
      },
      "source": [
        "# We can get the number of found records. Therefore, a loop can be developed to retrieve \n",
        "# all data belongs to an institution using retrieve. \n",
        "foundrecords = jDict[\"soap:Envelope\"][\"soap:Body\"][\"ns2:searchResponse\"][\"return\"][\"recordsFound\"]\n",
        "print(foundrecords)"
      ],
      "execution_count": 70,
      "outputs": [
        {
          "output_type": "stream",
          "text": [
            "19310\n"
          ],
          "name": "stdout"
        }
      ]
    },
    {
      "cell_type": "code",
      "metadata": {
        "id": "ViJW9C_3NIZy",
        "colab_type": "code",
        "outputId": "983f2a89-ac7a-4381-d227-80d60ad708da",
        "colab": {
          "base_uri": "https://localhost:8080/",
          "height": 34
        }
      },
      "source": [
        "# This an auxiliary information to know how many records that process has searched in\n",
        "searchedrecords = jDict[\"soap:Envelope\"][\"soap:Body\"][\"ns2:searchResponse\"][\"return\"][\"recordsSearched\"]\n",
        "print(searchedrecords)\n"
      ],
      "execution_count": 71,
      "outputs": [
        {
          "output_type": "stream",
          "text": [
            "71592216\n"
          ],
          "name": "stdout"
        }
      ]
    },
    {
      "cell_type": "code",
      "metadata": {
        "id": "vOWQlAf4Ppcs",
        "colab_type": "code",
        "outputId": "aa480705-d003-450e-d56e-cec45b986a84",
        "colab": {
          "base_uri": "https://localhost:8080/",
          "height": 459
        }
      },
      "source": [
        "# You can access a record at a time using the following format:\n",
        "jDict[\"soap:Envelope\"][\"soap:Body\"][\"ns2:searchResponse\"][\"return\"][\"records\"][1]"
      ],
      "execution_count": 72,
      "outputs": [
        {
          "output_type": "execute_result",
          "data": {
            "text/plain": [
              "{u'authors': {u'label': u'Authors',\n",
              "  u'value': [u'KHONDAKER, AN', u'ALLAYLA, RI', u'HUSAIN, T']},\n",
              " u'doctype': {u'label': u'Doctype', u'value': u'Review'},\n",
              " u'keywords': {u'label': u'Keywords',\n",
              "  u'value': [u'AQUIFER PROPERTIES',\n",
              "   u'CONTAMINANT TRANSPORT',\n",
              "   u'GROUNDWATER CONTAMINATION',\n",
              "   u'POROUS MEDIA',\n",
              "   u'SOLUTE TRANSPORT',\n",
              "   u'SUBSURFACE POLLUTION',\n",
              "   u'TRANSPORT PARAMETERS',\n",
              "   u'TRANSPORT THEORY']},\n",
              " u'other': [{u'label': u'Identifier.Ids', u'value': u'EQ660'},\n",
              "  {u'label': u'Identifier.Issn', u'value': u'1040-838X'},\n",
              "  {u'label': u'Identifier.Xref_Doi', u'value': u'10.1080/10643389009388399'},\n",
              "  {u'label': u'ResearcherID.Disclaimer',\n",
              "   u'value': u'ResearcherID data provided by Clarivate Analytics'}],\n",
              " u'source': [{u'label': u'Issue', u'value': u'4'},\n",
              "  {u'label': u'Pages', u'value': u'231-256'},\n",
              "  {u'label': u'Published.BiblioYear', u'value': u'1990'},\n",
              "  {u'label': u'SourceTitle',\n",
              "   u'value': u'CRITICAL REVIEWS IN ENVIRONMENTAL CONTROL'},\n",
              "  {u'label': u'Volume', u'value': u'20'}],\n",
              " u'title': {u'label': u'Title',\n",
              "  u'value': u'GROUNDWATER CONTAMINATION STUDIES - THE STATE-OF-THE-ART'},\n",
              " u'uid': u'WOS:A1990EQ66000001'}"
            ]
          },
          "metadata": {
            "tags": []
          },
          "execution_count": 72
        }
      ]
    },
    {
      "cell_type": "code",
      "metadata": {
        "id": "2mw_k_r-RCJC",
        "colab_type": "code",
        "outputId": "873fa9b1-85b4-493c-fb1d-9222226e4ef8",
        "colab": {
          "base_uri": "https://localhost:8080/",
          "height": 34
        }
      },
      "source": [
        "# Parse the content and get only author names\n",
        "jDict[\"soap:Envelope\"][\"soap:Body\"][\"ns2:searchResponse\"][\"return\"][\"records\"][1][\"authors\"][\"value\"]"
      ],
      "execution_count": 39,
      "outputs": [
        {
          "output_type": "execute_result",
          "data": {
            "text/plain": [
              "[u'KHONDAKER, AN', u'ALLAYLA, RI', u'HUSAIN, T']"
            ]
          },
          "metadata": {
            "tags": []
          },
          "execution_count": 39
        }
      ]
    },
    {
      "cell_type": "code",
      "metadata": {
        "id": "PQ2Hu1XXRJ7v",
        "colab_type": "code",
        "outputId": "c89f5df3-ae25-4e5e-dae8-49eb22984f97",
        "colab": {
          "base_uri": "https://localhost:8080/",
          "height": 34
        }
      },
      "source": [
        "# Parse the content and get only research title\n",
        "jDict[\"soap:Envelope\"][\"soap:Body\"][\"ns2:searchResponse\"][\"return\"][\"records\"][1][\"title\"][\"value\"]"
      ],
      "execution_count": 40,
      "outputs": [
        {
          "output_type": "execute_result",
          "data": {
            "text/plain": [
              "u'GROUNDWATER CONTAMINATION STUDIES - THE STATE-OF-THE-ART'"
            ]
          },
          "metadata": {
            "tags": []
          },
          "execution_count": 40
        }
      ]
    },
    {
      "cell_type": "markdown",
      "metadata": {
        "id": "L4q2z--ISjN7",
        "colab_type": "text"
      },
      "source": [
        "# close session\n",
        " Onece you're done with the data, you should close the session. To close an active session, we need to send a close request with SID added to the header"
      ]
    },
    {
      "cell_type": "code",
      "metadata": {
        "id": "-jEd83CnSstA",
        "colab_type": "code",
        "colab": {}
      },
      "source": [
        "# Endpoint \n",
        "Aurl=\"http://search.webofknowledge.com/esti/wokmws/ws/WOKMWSAuthenticate?WSDL\"\n",
        "\n",
        "# Header content\n",
        "headers = {'content-type': 'application/json', 'Cookie': SID}\n",
        "# request data\n",
        "Closerequest=\"\"\"<soapenv:Envelope xmlns:soapenv=\"http://schemas.xmlsoap.org/soap/envelope/\" xmlns:auth=\"http://auth.cxf.wokmws.thomsonreuters.com\">\n",
        "   <soapenv:Header/>\n",
        "   <soapenv:Body>\n",
        "      <auth:closeSession/>\n",
        "   </soapenv:Body>\n",
        "</soapenv:Envelope>\"\"\""
      ],
      "execution_count": 0,
      "outputs": []
    },
    {
      "cell_type": "code",
      "metadata": {
        "id": "W1RZDymyTGHW",
        "colab_type": "code",
        "colab": {
          "base_uri": "https://localhost:8080/",
          "height": 34
        },
        "outputId": "15e94cf8-0f0a-4521-bd2d-18441517fdfc"
      },
      "source": [
        "# send a query  and check if it is successful\n",
        "response = requests.post(Aurl,data=Closerequest,headers=headers)\n",
        "\n",
        "# check successful\n",
        "if response.status_code:\n",
        "  print(\"session closed: \", response.text)\n",
        "else:\n",
        "   print('session closed, already')"
      ],
      "execution_count": 74,
      "outputs": [
        {
          "output_type": "stream",
          "text": [
            "('session closed: ', u'<soap:Envelope xmlns:soap=\"http://schemas.xmlsoap.org/soap/envelope/\"><soap:Body><ns2:closeSessionResponse xmlns:ns2=\"http://auth.cxf.wokmws.thomsonreuters.com\"/></soap:Body></soap:Envelope>')\n"
          ],
          "name": "stdout"
        }
      ]
    }
  ]
}